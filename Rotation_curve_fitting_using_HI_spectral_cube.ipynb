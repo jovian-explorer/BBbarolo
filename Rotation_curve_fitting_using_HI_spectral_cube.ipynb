{
  "nbformat": 4,
  "nbformat_minor": 0,
  "metadata": {
    "colab": {
      "name": "Rotation curve fitting using HI spectral cube.ipynb",
      "provenance": [],
      "collapsed_sections": [
        "GESNHfDJlQLR",
        "qnuPWbMonZ5u",
        "ZUz6BdqFnwRO",
        "V-11IXIrnzQ7",
        "2948Liavn16e",
        "aTqHRXnOUtR7"
      ],
      "authorship_tag": "ABX9TyMtuECfvuLXqt5Hx3gkkxAv",
      "include_colab_link": true
    },
    "kernelspec": {
      "name": "python3",
      "display_name": "Python 3"
    },
    "language_info": {
      "name": "python"
    }
  },
  "cells": [
    {
      "cell_type": "markdown",
      "metadata": {
        "id": "view-in-github",
        "colab_type": "text"
      },
      "source": [
        "<a href=\"https://colab.research.google.com/github/jovian-explorer/BBbarolo/blob/main/Rotation_curve_fitting_using_HI_spectral_cube.ipynb\" target=\"_parent\"><img src=\"https://colab.research.google.com/assets/colab-badge.svg\" alt=\"Open In Colab\"/></a>"
      ]
    },
    {
      "cell_type": "markdown",
      "source": [
        "\n",
        "I have used my github profile to upload data, instead of going through the hassle of mounting the drive, or uploading the files each time.\n",
        "\n",
        "https://github.com/jovian-explorer"
      ],
      "metadata": {
        "id": "1uM4AmawlxP1"
      }
    },
    {
      "cell_type": "markdown",
      "source": [
        "####Importing Libraries"
      ],
      "metadata": {
        "id": "GESNHfDJlQLR"
      }
    },
    {
      "cell_type": "code",
      "source": [
        "#importing necessary packages\n",
        "import numpy as np\n",
        "from astropy.io import fits as f\n",
        "import pandas as pd\n",
        "from astropy.table import Table as t\n",
        "import matplotlib.colors as mpl\n",
        "from astropy.utils.data import download_file\n",
        "import matplotlib.pyplot as plt\n",
        "from astropy.visualization import astropy_mpl_style\n",
        "import plotly.express as px\n",
        "from mpl_toolkits import mplot3d\n",
        "from scipy.optimize import curve_fit\n",
        "import scipy.optimize as so\n",
        "import warnings\n",
        "warnings.filterwarnings(\"ignore\")"
      ],
      "metadata": {
        "id": "7qosEdoWgaNA"
      },
      "execution_count": 14,
      "outputs": []
    },
    {
      "cell_type": "markdown",
      "source": [
        "####Importing data"
      ],
      "metadata": {
        "id": "6q5fFs3AlUZr"
      }
    },
    {
      "cell_type": "markdown",
      "source": [
        "#####NGC2403.FITS"
      ],
      "metadata": {
        "id": "qnuPWbMonZ5u"
      }
    },
    {
      "cell_type": "code",
      "source": [
        "#downloading and opening the data file\n",
        "fname= download_file('https://github.com/jovian-explorer/BBbarolo/blob/main/ngc2403.fits?raw=true',cache=True)\n",
        "aa = f.open(fname,memap=True)"
      ],
      "metadata": {
        "id": "xg90FjCCgak4"
      },
      "execution_count": 15,
      "outputs": []
    },
    {
      "cell_type": "code",
      "source": [
        "#displaying the info in the file\n",
        "aa.info()"
      ],
      "metadata": {
        "colab": {
          "base_uri": "https://localhost:8080/"
        },
        "id": "is-Of1JpkZWT",
        "outputId": "4ace6f75-74df-4e86-833d-1a42ff52e1f7"
      },
      "execution_count": 16,
      "outputs": [
        {
          "output_type": "stream",
          "name": "stdout",
          "text": [
            "Filename: /root/.astropy/cache/download/url/ebbedf398caa205bbe2f5573b7201ca5/contents\n",
            "No.    Name      Ver    Type      Cards   Dimensions   Format\n",
            "  0  PRIMARY       1 PrimaryHDU    1132   (150, 150, 62)   float32   \n"
          ]
        }
      ]
    },
    {
      "cell_type": "code",
      "source": [
        "dataset = aa['PRIMARY'].data"
      ],
      "metadata": {
        "id": "HZ4oP-6G7nVT"
      },
      "execution_count": 17,
      "outputs": []
    },
    {
      "cell_type": "code",
      "source": [
        "print(dataset.ndim)  #dimensions of the data"
      ],
      "metadata": {
        "id": "GAs_Qc5y8_jI",
        "colab": {
          "base_uri": "https://localhost:8080/"
        },
        "outputId": "feb16ffd-70eb-4d93-eb41-3be0f6699952"
      },
      "execution_count": 18,
      "outputs": [
        {
          "output_type": "stream",
          "name": "stdout",
          "text": [
            "3\n"
          ]
        }
      ]
    },
    {
      "cell_type": "code",
      "source": [
        "print(dataset.shape) #SHAPE"
      ],
      "metadata": {
        "id": "75BoB5ZW9Yr7",
        "colab": {
          "base_uri": "https://localhost:8080/"
        },
        "outputId": "ccc98792-1812-4901-93b7-d9fe64b6f864"
      },
      "execution_count": 19,
      "outputs": [
        {
          "output_type": "stream",
          "name": "stdout",
          "text": [
            "(62, 150, 150)\n"
          ]
        }
      ]
    },
    {
      "cell_type": "markdown",
      "source": [
        "#####RINGLOG1"
      ],
      "metadata": {
        "id": "ZUz6BdqFnwRO"
      }
    },
    {
      "cell_type": "code",
      "source": [
        "url_1 = 'https://raw.githubusercontent.com/jovian-explorer/BBbarolo/main/ringlog1.csv'     # link to the raw file for the dataset from my github\n",
        "ringlog1 = pd.read_csv(url_1,encoding='utf-8')\n",
        "ringlog1.columns = [\"#RAD_PIX\",\"RAD_arcs\",\"VROT_km/s\",\"DISP_km/s\",\"INC_deg\",\"PA_deg_\",\"Z0_pc\",\"Z0_arcs\",\"SIG_E20\",\"X_POS_pix\",\"Y_POS_pix\",\"V_SYS_km/s\",\"V_RAD_km/s\"]\n",
        "print(ringlog1.head())"
      ],
      "metadata": {
        "colab": {
          "base_uri": "https://localhost:8080/"
        },
        "id": "5KD9gwVSbnrQ",
        "outputId": "95967876-af82-4b61-8f13-c376f580b1af"
      },
      "execution_count": 20,
      "outputs": [
        {
          "output_type": "stream",
          "name": "stdout",
          "text": [
            "   #RAD_PIX  RAD_arcs  VROT_km/s  DISP_km/s  INC_deg  PA_deg_    Z0_pc  \\\n",
            "0     0.233        15     45.171     23.418       60  114.590  155.144   \n",
            "1     0.698        45     61.615     22.368       60  133.569  155.144   \n",
            "2     1.164        75     76.511     17.979       60  124.363  155.144   \n",
            "3     1.629       105     83.943     16.476       60  133.862  155.144   \n",
            "4     2.094       135     88.821     15.329       60  119.017  155.144   \n",
            "\n",
            "   Z0_arcs  SIG_E20  X_POS_pix  Y_POS_pix  V_SYS_km/s  V_RAD_km/s  \n",
            "0       10        1         77         77       132.8           0  \n",
            "1       10        1         77         77       132.8           0  \n",
            "2       10        1         77         77       132.8           0  \n",
            "3       10        1         77         77       132.8           0  \n",
            "4       10        1         77         77       132.8           0  \n"
          ]
        }
      ]
    },
    {
      "cell_type": "markdown",
      "source": [
        "#####RINGLOG2"
      ],
      "metadata": {
        "id": "V-11IXIrnzQ7"
      }
    },
    {
      "cell_type": "code",
      "source": [
        "url_2 = 'https://raw.githubusercontent.com/jovian-explorer/BBbarolo/main/ringlog2.csv'     # link to the raw file for the dataset from my github\n",
        "ringlog2= pd.read_csv(url_2,encoding='utf-8')\n",
        "ringlog2.columns = [\"#RAD_PIX\",\"RAD_arcs\",\"VROT_km/s\",\"DISP_km/s\",\"INC_deg\",\"PA_deg_\",\"Z0_pc\",\"Z0_arcs\",\"SIG_E20\",\"X_POS_pix\",\"Y_POS_pix\",\"V_SYS_km/s\",\"V_RAD_km/s\"]\n",
        "v_rot= ringlog2[\"VROT_km/s\"]\n",
        "rad = ringlog2[\"RAD_arcs\"]\n",
        "print(ringlog2.head()) "
      ],
      "metadata": {
        "colab": {
          "base_uri": "https://localhost:8080/"
        },
        "outputId": "b4479cb5-4c96-43e9-a590-f78d56bedf7a",
        "id": "6iMjuIa_oMmD"
      },
      "execution_count": 67,
      "outputs": [
        {
          "output_type": "stream",
          "name": "stdout",
          "text": [
            "   #RAD_PIX  RAD_arcs  VROT_km/s  DISP_km/s  INC_deg  PA_deg_    Z0_pc  \\\n",
            "0     0.233        15     45.171     23.418       60  114.590  155.144   \n",
            "1     0.698        45     66.765     21.267       60  124.741  155.144   \n",
            "2     1.164        75     76.288     18.098       60  126.844  155.144   \n",
            "3     1.629       105     85.292     15.984       60  126.303  155.144   \n",
            "4     2.094       135     91.521     14.703       60  125.005  155.144   \n",
            "\n",
            "   Z0_arcs  SIG_E20  X_POS_pix  Y_POS_pix  V_SYS_km/s  V_RAD_km/s  \n",
            "0       10        1         77         77       132.8           0  \n",
            "1       10        1         77         77       132.8           0  \n",
            "2       10        1         77         77       132.8           0  \n",
            "3       10        1         77         77       132.8           0  \n",
            "4       10        1         77         77       132.8           0  \n"
          ]
        }
      ]
    },
    {
      "cell_type": "markdown",
      "source": [
        "####Brandt profile curvefit"
      ],
      "metadata": {
        "id": "Ajl88cg_YhmX"
      }
    },
    {
      "cell_type": "code",
      "source": [
        "v_rot= ringlog2[\"VROT_km/s\"]\n",
        "print(max(v_rot))\n",
        "rad = ringlog2[\"RAD_arcs\"]\n",
        "print(rad[36])\n",
        "print(np.where(v_rot == 136.865))"
      ],
      "metadata": {
        "colab": {
          "base_uri": "https://localhost:8080/"
        },
        "id": "Vju5zC0JbsPc",
        "outputId": "70b285e9-43ca-4d5f-9eb7-7f8bd006547e"
      },
      "execution_count": 66,
      "outputs": [
        {
          "output_type": "stream",
          "name": "stdout",
          "text": [
            "136.865\n",
            "1095\n",
            "(array([36]),)\n"
          ]
        }
      ]
    },
    {
      "cell_type": "code",
      "source": [
        "vmax = max(v_rot)\n",
        "rmax = rad[36]\n",
        "plt.plot(rad,v_rot)\n",
        "plt.scatter(rmax,vmax)\n",
        "plt.text(rmax-50,vmax -7 ,\"Max Value\")\n",
        "plt.xlabel(\"$Radius \\longrightarrow$\")\n",
        "plt.ylabel(\"$V_{Rot} \\longrightarrow $\")\n",
        "plt.show()"
      ],
      "metadata": {
        "colab": {
          "base_uri": "https://localhost:8080/",
          "height": 282
        },
        "id": "eb6JY2SefJxz",
        "outputId": "acd91147-02ee-43fb-a7dd-193e01e66525"
      },
      "execution_count": 23,
      "outputs": [
        {
          "output_type": "display_data",
          "data": {
            "text/plain": [
              "<Figure size 432x288 with 1 Axes>"
            ],
            "image/png": "[encoded data removed]"
          },
          "metadata": {
            "needs_background": "light"
          }
        }
      ]
    },
    {
      "cell_type": "code",
      "source": [
        "def func1(R_max,V_max,n):\n",
        "  numerator = V_max*(1200/R_max)\n",
        "  denominator = ((1/3)+ ((2/3)*((1200/R_max)**n)))**(3/(2*n))\n",
        "  return numerator/denominator\n",
        "   \n",
        "popt1, pcov1 = curve_fit(func1,rad, v_rot)\n",
        "plt.plot(rad, func1(rad, *popt1), 'k-', label=\"Brandt Profile\")\n",
        "plt.scatter(1215,135.718087212856,color = 'black')\n",
        "\n",
        "plt.plot(rad, v_rot, 'r.', label=\"Data\")\n",
        "plt.scatter(rmax,vmax,color = 'red')\n",
        "\n",
        "plt.xlabel(\"$Radius \\longrightarrow$\")\n",
        "plt.ylabel(\"$V_{Rot} \\longrightarrow $\")\n",
        "plt.legend()\n",
        "plt.show()"
      ],
      "metadata": {
        "colab": {
          "base_uri": "https://localhost:8080/",
          "height": 282
        },
        "id": "0hPB5zpbVFzV",
        "outputId": "732c016e-da39-495a-9551-4f0a31666f1a"
      },
      "execution_count": 88,
      "outputs": [
        {
          "output_type": "display_data",
          "data": {
            "text/plain": [
              "<Figure size 432x288 with 1 Axes>"
            ],
            "image/png": "[encoded data removed]"
          },
          "metadata": {
            "needs_background": "light"
          }
        }
      ]
    },
    {
      "cell_type": "code",
      "source": [
        "# parameters obtained from the Brandt profile curvefit\n",
        "R_max = 1215\n",
        "V_max =135.719"
      ],
      "metadata": {
        "id": "GuOBUVan5Yyn"
      },
      "execution_count": 102,
      "outputs": []
    },
    {
      "cell_type": "code",
      "source": [
        "print(\"                _________________________________________\")\n",
        "print(\"                | \"+ \" Max Velocity\" +\"   |      \"+\"Max Radius\" +\"     |\")\n",
        "print(\"________________|_________________|_____________________|\")\n",
        "print(\"Data\" +\"            |     \"+str(vmax) + \"     |          \"+ str(rmax) +\"       |\")\n",
        "print(\"________________|_________________|_____________________|\")\n",
        "print(\"Brandt Profile\"+\"  |     \" +str(V_max) + \"     |          \"+ str(R_max) +\"       |\")\n",
        "print(\"________________|_________________|_____________________|\")"
      ],
      "metadata": {
        "colab": {
          "base_uri": "https://localhost:8080/"
        },
        "id": "c5gjge464U-e",
        "outputId": "c8564970-a423-47fd-b726-0d9783981e71"
      },
      "execution_count": 131,
      "outputs": [
        {
          "output_type": "stream",
          "name": "stdout",
          "text": [
            "                _________________________________________\n",
            "                |  Max Velocity   |      Max Radius     |\n",
            "________________|_________________|_____________________|\n",
            "Data            |     136.865     |          1095       |\n",
            "________________|_________________|_____________________|\n",
            "Brandt Profile  |     135.719     |          1215       |\n",
            "________________|_________________|_____________________|\n"
          ]
        }
      ]
    },
    {
      "cell_type": "markdown",
      "source": [
        "#####DENSITY PROFILE"
      ],
      "metadata": {
        "id": "2948Liavn16e"
      }
    },
    {
      "cell_type": "code",
      "source": [
        "url_3 = 'https://raw.githubusercontent.com/jovian-explorer/BBbarolo/main/densprof.csv'     # link to the raw file for the dataset from my github\n",
        "densprof = pd.read_csv(url_3,encoding='utf-8')\n",
        "densprof.columns = [\"RADIUS\",\"SUM\",\"MEAN\",\"MEDIAN\",\"STDDEV\",\"MAD\",\"NPIX\",\"ERR_SD\",\"SURFDENS_FO\",\"SURFDENS\",\"MSURFDENS\",\"MSURFDENS2\"]\n",
        "print(densprof.head()) #displaying the first 5 rows\n",
        "\n",
        "# Columns 2-6  : ring stats (sum, mean, median, standard deviation and median absolute deviation from the median).\n",
        "# Column  7    : number of pixels within the ring.\n",
        "# Columns 8-10 : surface density, its error and face-on surface density (inclination corrected).\n",
        "# Columns 11-12: face-on (inclination corrected) mass surface densities with two different techniques."
      ],
      "metadata": {
        "id": "fuZHbspAoORi"
      },
      "execution_count": null,
      "outputs": []
    },
    {
      "cell_type": "markdown",
      "source": [
        "##This is not a part of the actual assignment, but since I was playing around with the fits file, I thought of sharing it as well.\n"
      ],
      "metadata": {
        "id": "aTqHRXnOUtR7"
      }
    },
    {
      "cell_type": "markdown",
      "source": [
        "#### Trying some plotting"
      ],
      "metadata": {
        "id": "uIUI85Y6oyqv"
      }
    },
    {
      "cell_type": "markdown",
      "source": [
        "#####2D plots"
      ],
      "metadata": {
        "id": "mHKIj2T9siuu"
      }
    },
    {
      "cell_type": "code",
      "source": [
        "#plotting a histogram of the values\n",
        "e=plt.hist(dataset[0],bins='auto')\n",
        "plt.xlabel(\"dataset[0]\")\n",
        "plt.ylabel(\"Counts\")\n",
        "plt.show()\n",
        "\n",
        "q=plt.hist(dataset[1],bins='auto')\n",
        "plt.xlabel(\"dataset[1]\")\n",
        "plt.ylabel(\"Counts\")\n",
        "plt.show()\n",
        "\n",
        "g=plt.hist(dataset[2],bins='auto')\n",
        "plt.xlabel(\"dataset[2]\")\n",
        "plt.ylabel(\"Counts\")\n",
        "plt.show()"
      ],
      "metadata": {
        "id": "4Fj3Ln_voFao"
      },
      "execution_count": null,
      "outputs": []
    },
    {
      "cell_type": "code",
      "source": [
        "plt.scatter(dataset[0],dataset[1],c=dataset[2],cmap='viridis')"
      ],
      "metadata": {
        "id": "ZGLbJzu0pRnO"
      },
      "execution_count": null,
      "outputs": []
    },
    {
      "cell_type": "markdown",
      "source": [
        "#####3D plots"
      ],
      "metadata": {
        "id": "j1Hq2ff8scR4"
      }
    },
    {
      "cell_type": "code",
      "source": [
        "fig = plt.figure(figsize = (10, 7))\n",
        "ax = plt.axes(projection =\"3d\")\n",
        "# Creating plot\n",
        "ax.scatter3D(dataset[0],dataset[1],dataset[2],c=dataset[2],cmap='viridis')\n",
        "# show plot\n",
        "plt.title(\"Galaxy NGC2403\") #atleast that's what it looks like, to me\n",
        "plt.show()"
      ],
      "metadata": {
        "id": "2Lx8kka9kJYU"
      },
      "execution_count": null,
      "outputs": []
    },
    {
      "cell_type": "code",
      "source": [
        "fig = plt.figure(figsize = (10, 7))\n",
        "ax = plt.axes(projection =\"3d\")\n",
        "# Creating plot\n",
        "x = dataset[0]\n",
        "y = dataset[1]\n",
        "z = dataset[2]\n",
        "ax.plot_surface(x,y,z)\n",
        "# show plot\n",
        "plt.show()"
      ],
      "metadata": {
        "id": "XXXlbZ02qNy-"
      },
      "execution_count": null,
      "outputs": []
    },
    {
      "cell_type": "markdown",
      "source": [
        "####Finally, some simple calulations"
      ],
      "metadata": {
        "id": "wpqfuwSEsmLt"
      }
    },
    {
      "cell_type": "code",
      "source": [
        "#Printing the minimum, maximum and mean values of the pixels\n",
        "print(\"Min: \"+str(np.min(dataset)))\n",
        "print(\"Max: \"+str(np.max(dataset)))\n",
        "print(\"Mean: \"+str(np.mean(dataset)))\n",
        "#Displaying the location of the central (also the brightest) pixel\n",
        "m=np.max(dataset)\n",
        "print(\"Position of the brightest central pixel is: \",np.where(dataset==m))"
      ],
      "metadata": {
        "id": "UAaJtBMzsHq7"
      },
      "execution_count": null,
      "outputs": []
    }
  ]
}